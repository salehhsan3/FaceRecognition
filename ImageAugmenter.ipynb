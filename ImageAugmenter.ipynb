{
 "cells": [
  {
   "cell_type": "markdown",
   "metadata": {},
   "source": [
    "a way to automate data augmentation:"
   ]
  },
  {
   "cell_type": "code",
   "execution_count": 1,
   "metadata": {},
   "outputs": [],
   "source": [
    "import albumentations as A\n",
    "import cv2\n",
    "import os\n",
    "import random\n",
    "from PIL import Image\n",
    "import matplotlib.pyplot as plt"
   ]
  },
  {
   "cell_type": "code",
   "execution_count": 5,
   "metadata": {},
   "outputs": [],
   "source": [
    "orig_data = './Dataset'\n",
    "augmented_data = './AugmentedData/'\n",
    "\n",
    "if os.path.exists(augmented_data):\n",
    "    exit(0) # already did the augmentation"
   ]
  },
  {
   "cell_type": "code",
   "execution_count": 3,
   "metadata": {},
   "outputs": [],
   "source": [
    "def visualize(image, figsize=(10, 10)):\n",
    "    plt.figure(figsize=figsize)\n",
    "    plt.axis('off')\n",
    "    plt.imshow(image)"
   ]
  },
  {
   "cell_type": "code",
   "execution_count": 7,
   "metadata": {},
   "outputs": [],
   "source": [
    "os.mkdir(augmented_data)\n",
    "\n",
    "transform = A.Compose([\n",
    "    A.CLAHE(),\n",
    "    A.RandomRotate90(),\n",
    "    A.Transpose(),\n",
    "    A.ShiftScaleRotate(shift_limit=0.0625, scale_limit=0.50, rotate_limit=45, p=0.75),\n",
    "    A.RandomResizedCrop(scale=(0.8, 1.0), height=2000, width=1500),\n",
    "    A.Blur(blur_limit=3),\n",
    "    A.OpticalDistortion(),\n",
    "    A.GridDistortion(),\n",
    "    A.HueSaturationValue()\n",
    "])\n",
    "\n",
    "    \n",
    "# List all image files in the input data folder\n",
    "image_files = [img for img in os.listdir(orig_data) if img.endswith('.jpg')]\n",
    "\n",
    "for image_file in image_files:\n",
    "    image_path = os.path.join(orig_data, image_file)\n",
    "    image = cv2.imread(image_path)\n",
    "    image = cv2.cvtColor(image, cv2.COLOR_BGR2RGB)\n",
    "\n",
    "    # Generate multiple augmented images from each original image\n",
    "    for i in range(5):  # Adjust the number of augmented images per original image\n",
    "        augmented_image = transform(image=image)['image']\n",
    "\n",
    "        # Generate a random number for the filename\n",
    "        random_number = random.randint(1, 10000)\n",
    "        while os.path.exists(os.path.join(augmented_data, f'augmented_{random_number}_{image_file}')):\n",
    "            random_number = random.randint(1, 10000)\n",
    "\n",
    "        # Save the augmented image to the output folder with random numbering\n",
    "        output_image_filename = f'augmented_{random_number}_{image_file}'\n",
    "        output_image_path = os.path.join(augmented_data, output_image_filename)\n",
    "        cv2.imwrite(output_image_path, cv2.cvtColor(augmented_image, cv2.COLOR_RGB2BGR))\n",
    "\n",
    "        # visualize(augmented_image, (image_width, image_height)) # To show pictures\n",
    "\n",
    "\n"
   ]
  }
 ],
 "metadata": {
  "kernelspec": {
   "display_name": "Python 3",
   "language": "python",
   "name": "python3"
  },
  "language_info": {
   "codemirror_mode": {
    "name": "ipython",
    "version": 3
   },
   "file_extension": ".py",
   "mimetype": "text/x-python",
   "name": "python",
   "nbconvert_exporter": "python",
   "pygments_lexer": "ipython3",
   "version": "3.11.3"
  },
  "orig_nbformat": 4
 },
 "nbformat": 4,
 "nbformat_minor": 2
}

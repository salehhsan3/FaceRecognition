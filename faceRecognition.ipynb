{
 "cells": [
  {
   "cell_type": "markdown",
   "metadata": {},
   "source": [
    "face recognition from Live Videos!"
   ]
  },
  {
   "cell_type": "code",
   "execution_count": 1,
   "metadata": {},
   "outputs": [],
   "source": [
    "import random\n",
    "import face_recognition\n",
    "import os, sys\n",
    "import cv2\n",
    "import numpy as np\n",
    "import math\n",
    "import ctypes\n",
    "from screeninfo import get_monitors"
   ]
  },
  {
   "cell_type": "code",
   "execution_count": 2,
   "metadata": {},
   "outputs": [],
   "source": [
    "def face_confidence(face_distance, face_match_threshold=0.6):\n",
    "    range = (1.0 - face_match_threshold)\n",
    "    linear_val = (1.0 -face_distance) / (range * 2.0)\n",
    "\n",
    "    if face_distance > face_match_threshold:\n",
    "        return str(round(linear_val * 100, 2 )) + '%'\n",
    "    else:\n",
    "        value = (linear_val + ((1.0 - linear_val) * math.pow((linear_val - 0.5) * 2, 0.2))) * 100\n",
    "        return str(round(value, 2)) + '%'"
   ]
  },
  {
   "cell_type": "code",
   "execution_count": 5,
   "metadata": {},
   "outputs": [],
   "source": [
    "class FaceRecognition:\n",
    "    face_locations = []\n",
    "    face_encodings = []\n",
    "    face_names = []\n",
    "    known_face_encodings =[]\n",
    "    known_face_names = []\n",
    "    process_current_frame = True\n",
    "\n",
    "    def __init__(self):\n",
    "        self.encode_faces()\n",
    "        \n",
    "    def encode_faces(self):\n",
    "        data_path = './all_faces'\n",
    "        for image in os.listdir(data_path):\n",
    "            face_image = face_recognition.load_image_file( data_path + f'/{image}') # an image of a person's face\n",
    "            face_encoding = face_recognition.face_encodings(face_image)\n",
    "            if len(face_encoding) > 0:\n",
    "                face_encoding = face_encoding[0] \n",
    "                self.known_face_encodings.append(face_encoding)\n",
    "                self.known_face_names.append(image)\n",
    "\n",
    "        print(\"Number of People: \" + str(len(self.known_face_names)) + \"\\n\")\n",
    "        print(self.known_face_names)\n",
    "    \n",
    "    def run_recognition(self):\n",
    "        video_capture = cv2.VideoCapture(0)\n",
    "        monitors = get_monitors()\n",
    "        screen_width = monitors[0].width\n",
    "        screen_height = monitors[0].height\n",
    "        video_capture.set(cv2.CAP_PROP_FRAME_WIDTH, screen_width)\n",
    "        video_capture.set(cv2.CAP_PROP_FRAME_HEIGHT, screen_height)\n",
    "        aspect_ratio = screen_width / screen_height\n",
    "        new_width = int(screen_height * aspect_ratio)\n",
    "        \n",
    "        if not video_capture.isOpened():\n",
    "            sys.exit('Video source was not found') # Video Capture Failed!\n",
    "\n",
    "        while True:\n",
    "            ret, frame = video_capture.read()\n",
    "\n",
    "            if self.process_current_frame:\n",
    "                # resize and change the frame to RGB\n",
    "                small_frame = cv2.resize(frame, (0, 0), fx=0.25, fy=0.25)\n",
    "                rgb_small_frame = cv2.cvtColor(small_frame, cv2.COLOR_BGR2RGB)\n",
    "\n",
    "                # Find all faces in the current frame\n",
    "                self.face_locations = face_recognition.face_locations(rgb_small_frame)\n",
    "                self.face_encodings = face_recognition.face_encodings(rgb_small_frame, self.face_locations)\n",
    "\n",
    "                self.face_names = []\n",
    "                for face_encoding in self.face_encodings:\n",
    "                    matches = face_recognition.compare_faces(self.known_face_encodings, face_encoding)\n",
    "                    name = 'Not Atar!'\n",
    "                    confidence = ''\n",
    "\n",
    "                    face_distances = face_recognition.face_distance(self.known_face_encodings, face_encoding)\n",
    "                    best_match_index = np.argmin(face_distances)\n",
    "\n",
    "                    if matches[best_match_index]:\n",
    "                        name = self.known_face_names[best_match_index]\n",
    "                        name = name.split(\".jpg\")[0]\n",
    "                        confidence = face_confidence(face_distances[best_match_index])\n",
    "\n",
    "                    self.face_names.append(f'{name} ({confidence})')\n",
    "\n",
    "            self.process_current_frame = not self.process_current_frame\n",
    "\n",
    "            # Display annotations\n",
    "            for (top, right, bottom, left), name in zip(self.face_locations, self.face_names):\n",
    "                top *= 6\n",
    "                right *= 6\n",
    "                bottom *= 6\n",
    "                left *= 6\n",
    "                \n",
    "                frame = cv2.resize(frame, (new_width, screen_height)) # resized frame\n",
    "            \n",
    "                cv2.rectangle(frame, (left, top), (right, bottom), (0, 0, 255), 2)\n",
    "                cv2.rectangle(frame, (left, bottom - 35), (right, bottom), (0, 0, 255), -1)\n",
    "                cv2.putText(frame, name, (left + 6, bottom - 6), cv2.FONT_HERSHEY_DUPLEX, 0.8, (255, 255,255), 1)\n",
    "           \n",
    "            cv2.imshow('Face Booth', frame)\n",
    "            if cv2.waitKey(1) == ord('q'):\n",
    "                break\n",
    "\n",
    "        video_capture.release()\n",
    "        cv2.destroyAllWindows()"
   ]
  },
  {
   "cell_type": "code",
   "execution_count": 6,
   "metadata": {},
   "outputs": [
    {
     "name": "stdout",
     "output_type": "stream",
     "text": [
      "Number of People: 33\n",
      "\n",
      "['almog.jpg', 'alon.jpg', 'amro.jpg', 'atar.jpg', 'eilam.jpg', 'guy.jpg', 'hind.jpg', 'itay.jpg', 'jake.jpg', 'lia.jpg', 'Maisan.jpg', 'Margalit.jpg', 'matan.jpg', 'michael.jpg', 'michal.jpg', 'mirvat.jpg', 'MohammedE.jpg', 'MohammedS.jpg', 'mohammed_a.f.jpg', 'Mohanad.jpg', 'nitai.jpg', 'NoamBoker.jpg', 'NoamDavid.jpg', 'ofir.jpg', 'saar.jpg', 'saleh.jpg', 'ShaharH.jpg', 'ShaharM.jpg', 'tamar.jpg', 'Tamir.jpg', 'uri.jpg', 'uthman.jpg', 'yifat.jpg']\n"
     ]
    }
   ],
   "source": [
    "# Run the Face Recognition application\n",
    "fr = FaceRecognition()\n",
    "fr.run_recognition()"
   ]
  }
 ],
 "metadata": {
  "kernelspec": {
   "display_name": "Python 3",
   "language": "python",
   "name": "python3"
  },
  "language_info": {
   "codemirror_mode": {
    "name": "ipython",
    "version": 3
   },
   "file_extension": ".py",
   "mimetype": "text/x-python",
   "name": "python",
   "nbconvert_exporter": "python",
   "pygments_lexer": "ipython3",
   "version": "3.11.3"
  },
  "orig_nbformat": 4
 },
 "nbformat": 4,
 "nbformat_minor": 2
}
